{
  "cells": [
    {
      "cell_type": "markdown",
      "metadata": {
        "colab_type": "text",
        "id": "vbSeyS1uFtMn"
      },
      "source": [
        "# Train the model"
      ]
    },
    {
      "cell_type": "code",
      "execution_count": 6,
      "metadata": {
        "colab": {
          "base_uri": "https://localhost:8080/",
          "height": 170
        },
        "colab_type": "code",
        "id": "R-oDmq-ZFo9n",
        "outputId": "c80d1982-92ee-439a-db6e-b4364c363236"
      },
      "outputs": [
        {
          "name": "stdout",
          "output_type": "stream",
          "text": [
            "141543 translation pairs found in dataset.\n",
            "Reduced dataset to 141437 translation pairs.\n",
            "No of words in each language:\n",
            "eng 13751\n",
            "cat 26844\n",
            "Starting Training Loop...\n",
            "1m 37s (- 4m 52s) (5000 25%) 5.4091\n",
            "3m 20s (- 3m 20s) (10000 50%) 5.0388\n",
            "5m 7s (- 1m 42s) (15000 75%) 5.0545\n",
            "6m 59s (- 0m 0s) (20000 100%) 5.1467\n"
          ]
        }
      ],
      "source": [
        "!python train.py --epoch=20000 --lr=0.0005"
      ]
    },
    {
      "cell_type": "markdown",
      "metadata": {
        "colab_type": "text",
        "id": "7eP2DwWKF8bE"
      },
      "source": [
        "# Translate using trained model"
      ]
    },
    {
      "cell_type": "code",
      "execution_count": 7,
      "metadata": {
        "colab": {
          "base_uri": "https://localhost:8080/",
          "height": 136
        },
        "colab_type": "code",
        "id": "QO2AJV-sFyGv",
        "outputId": "d43e9b87-24e5-4ab4-b606-a9717e52ec87"
      },
      "outputs": [
        {
          "name": "stdout",
          "output_type": "stream",
          "text": [
            "141543 translation pairs found in dataset.\n",
            "Reduced dataset to 141437 translation pairs.\n",
            "No of words in each language:\n",
            "eng 13751\n",
            "cat 26844\n",
            "I am hungry!\n",
            "input = i am hungry !\n",
            "output =  que que que ? <EOS>\n"
          ]
        }
      ],
      "source": [
        "!python translate.py --translate_sentence='I am hungry!'"
      ]
    },
    {
      "cell_type": "code",
      "execution_count": 8,
      "metadata": {
        "colab": {
          "base_uri": "https://localhost:8080/",
          "height": 136
        },
        "colab_type": "code",
        "id": "8hplZLULIpbl",
        "outputId": "38d060d6-b37e-4e03-8432-50567d98041f"
      },
      "outputs": [
        {
          "name": "stdout",
          "output_type": "stream",
          "text": [
            "141543 translation pairs found in dataset.\n",
            "Reduced dataset to 141437 translation pairs.\n",
            "No of words in each language:\n",
            "eng 13751\n",
            "cat 26844\n",
            "This is my sister!\n",
            "input = this is my sister !\n",
            "output =  que que que que . <EOS>\n"
          ]
        }
      ],
      "source": [
        "!python translate.py --translate_sentence='This is my sister!'"
      ]
    },
    {
      "cell_type": "code",
      "execution_count": 12,
      "metadata": {},
      "outputs": [
        {
          "name": "stdout",
          "output_type": "stream",
          "text": [
            "141543 translation pairs found in dataset.\n",
            "Reduced dataset to 141437 translation pairs.\n",
            "No of words in each language:\n",
            "eng 13751\n",
            "cat 26844\n",
            "Really?\n",
            "Traceback (most recent call last):\n",
            "  File \"translate.py\", line 76, in <module>\n",
            "    main(args.translate_sentence)\n",
            "  File \"translate.py\", line 65, in main\n",
            "    evaluateAndShowAttention(sentence)\n",
            "  File \"translate.py\", line 42, in evaluateAndShowAttention\n",
            "    output_words, attentions = evaluate(encoder1, attn_decoder1, input_sentence)\n",
            "  File \"translate.py\", line 28, in evaluate\n",
            "    decoder_output, decoder_hidden, decoder_attention = decoder(\n",
            "  File \"/anaconda/envs/py38_default/lib/python3.8/site-packages/torch/nn/modules/module.py\", line 1130, in _call_impl\n",
            "    return forward_call(*input, **kwargs)\n",
            "  File \"/home/xnmaster/TestProject/Project/XNAPproject-grup-04/model.py\", line 52, in forward\n",
            "    attn_applied = torch.bmm(attn_weights.unsqueeze(0),\n",
            "RuntimeError: Expected size for first two dimensions of batch2 tensor to be: [1, 25] but got: [1, 250].\n"
          ]
        }
      ],
      "source": [
        "!python translate.py --translate_sentence='Really?'\n"
      ]
    },
    {
      "cell_type": "markdown",
      "metadata": {
        "colab_type": "text",
        "id": "VUaODl9aIdiK"
      },
      "source": [
        "# Things to add\n",
        "\n",
        "- Validation can be easily added\n",
        "- More training\n",
        "- much bigger dataset\n",
        "- Flask server for translating"
      ]
    }
  ],
  "metadata": {
    "accelerator": "GPU",
    "colab": {
      "collapsed_sections": [],
      "name": "seq2seq machine translation DEMO.ipynb",
      "provenance": [],
      "version": "0.3.2"
    },
    "kernelspec": {
      "display_name": "Python 3.8 - Spark (local)",
      "language": "python",
      "name": "spark-3-python"
    },
    "language_info": {
      "codemirror_mode": {
        "name": "ipython",
        "version": 3
      },
      "file_extension": ".py",
      "mimetype": "text/x-python",
      "name": "python",
      "nbconvert_exporter": "python",
      "pygments_lexer": "ipython3",
      "version": "3.8.16"
    }
  },
  "nbformat": 4,
  "nbformat_minor": 0
}
